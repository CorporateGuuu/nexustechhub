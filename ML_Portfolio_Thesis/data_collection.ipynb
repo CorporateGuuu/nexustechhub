{
 "cells": [
  {
   "cell_type": "markdown",
   "metadata": {},
   "source": [
    "# Data Collection and Preprocessing\n",
    "\n",
    "This notebook downloads stock data using yfinance and preprocesses it for portfolio analysis."
   ]
  },
  {
   "cell_type": "code",
   "execution_count": null,
   "metadata": {},
   "outputs": [],
   "source": [
    "import yfinance as yf\n",
    "import pandas as pd\n",
    "import numpy as np\n",
    "from sklearn.preprocessing import StandardScaler\n",
    "\n",
    "# Define tickers (e.g., S&P 500 components or a subset)\n",
    "tickers = ['AAPL', 'MSFT', 'GOOGL', 'AMZN', 'TSLA', 'NVDA', 'META', 'NFLX', 'BABA', 'ORCL']\n",
    "\n",
    "# Download historical data\n",
    "start_date = '2018-01-01'\n",
    "end_date = '2023-01-01'\n",
    "data = yf.download(tickers, start=start_date, end=end_date)\n",
    "\n",
    "# Focus on adjusted close prices\n",
    "prices = data['Adj Close']\n",
    "\n",
    "# Calculate returns\n",
    "returns = prices.pct_change().dropna()\n",
    "\n",
    "# Handle missing values\n",
    "returns = returns.fillna(method='ffill').fillna(0)\n",
    "\n",
    "# Normalize returns\n",
    "scaler = StandardScaler()\n",
    "returns_scaled = pd.DataFrame(scaler.fit_transform(returns), index=returns.index, columns=returns.columns)\n",
    "\n",
    "print('Data shape:', returns.shape)\n",
    "returns.head()"
   ]
  }
 ],
 "metadata": {
  "kernelspec": {
   "display_name": "Python 3",
   "language": "python",
   "name": "python3"
  },
  "language_info": {
   "name": "python",
   "version": "3.9.0"
  }
 },
 "nbformat": 4,
 "nbformat_minor": 4
}
