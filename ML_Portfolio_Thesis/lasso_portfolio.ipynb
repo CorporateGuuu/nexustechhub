{
 "cells": [
  {
   "cell_type": "markdown",
   "metadata": {},
   "source": [
    "# LASSO for Portfolio Selection\n",
    "\n",
    "Use LASSO regression to select features or predict returns for portfolio optimization."
   ]
  },
  {
   "cell_type": "code",
   "execution_count": null,
   "metadata": {},
   "outputs": [],
   "source": [
    "import pandas as pd\n",
    "import numpy as np\n",
    "from sklearn.linear_model import Lasso\n",
    "from sklearn.model_selection import train_test_split\n",
    "from sklearn.metrics import mean_squared_error\n",
    "import matplotlib.pyplot as plt\n",
    "\n",
    "# Load preprocessed data (assuming from previous notebook)\n",
    "# For demonstration, generate synthetic data\n",
    "np.random.seed(42)\n",
    "n_samples = 1000\n",
    "n_features = 50\n",
    "X = np.random.randn(n_samples, n_features)\n",
    "y = X[:, :5].sum(axis=1) + 0.1 * np.random.randn(n_samples)  # Sparse true coefficients\n",
    "\n",
    "# Split data\n",
    "X_train, X_test, y_train, y_test = train_test_split(X, y, test_size=0.2, random_state=42)\n",
    "\n",
    "# Fit LASSO\n",
    "lasso = Lasso(alpha=0.1)\n",
    "lasso.fit(X_train, y_train)\n",
    "\n",
    "# Predictions\n",
    "y_pred = lasso.predict(X_test)\n",
    "\n",
    "# Evaluate\n",
    "mse = mean_squared_error(y_test, y_pred)\n",
    "print('MSE:', mse)\n",
    "print('Non-zero coefficients:', np.sum(lasso.coef_ != 0))\n",
    "\n",
    "# Plot coefficients\n",
    "plt.figure(figsize=(10, 6))\n",
    "plt.plot(lasso.coef_, 'o')\n",
    "plt.title('LASSO Coefficients')\n",
    "plt.xlabel('Feature Index')\n",
    "plt.ylabel('Coefficient Value')\n",
    "plt.show()"
   ]
  }
 ],
 "metadata": {
  "kernelspec": {
   "display_name": "Python 3",
   "language": "python",
   "name": "python3"
  },
  "language_info": {
   "name": "python",
   "version": "3.9.0"
  }
 },
 "nbformat": 4,
 "nbformat_minor": 4
}
